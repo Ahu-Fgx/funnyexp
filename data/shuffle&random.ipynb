{
 "cells": [
  {
   "cell_type": "code",
   "execution_count": 19,
   "id": "62aa96c7",
   "metadata": {},
   "outputs": [
    {
     "name": "stderr",
     "output_type": "stream",
     "text": [
      "100%|██████████| 4/4 [00:00<00:00, 21.66it/s]\n"
     ]
    }
   ],
   "source": [
    "import random\n",
    "from tqdm import tqdm\n",
    "\n",
    "ci_path = [\"ci_2.txt\", \"ci_3.txt\", \"ci_4.txt\", \"ci_5.txt\"]\n",
    "\n",
    "words = list()\n",
    "cnt_list = list()\n",
    "for path in tqdm(ci_path):\n",
    "    ci_shuffled = list()\n",
    "    cnt = 0\n",
    "    with open(path, \"r\", encoding=\"utf-8\") as f:\n",
    "        for line in f.readlines():\n",
    "            line = list(line.strip())\n",
    "            \n",
    "            words += list(set(line))\n",
    "            \n",
    "            random.shuffle(line)\n",
    "            ci_shuffled.append(\"\".join(line))\n",
    "            cnt += 1\n",
    "            \n",
    "    with open(path.split(\".\")[0] + \"_shuffled.txt\", \"w\", encoding=\"utf-8\") as f:\n",
    "        for line in ci_shuffled:\n",
    "            f.write(line + \"\\n\")\n",
    "    \n",
    "    cnt_list.append(cnt)\n",
    "    \n",
    "words = sorted(list(set(words)))"
   ]
  },
  {
   "cell_type": "code",
   "execution_count": 50,
   "id": "cc080c12",
   "metadata": {},
   "outputs": [
    {
     "data": {
      "text/plain": [
       "['瑜', '金']"
      ]
     },
     "execution_count": 50,
     "metadata": {},
     "output_type": "execute_result"
    }
   ],
   "source": [
    "random.choices(words, k=2)"
   ]
  },
  {
   "cell_type": "code",
   "execution_count": 54,
   "id": "7e45d0f4",
   "metadata": {},
   "outputs": [
    {
     "name": "stderr",
     "output_type": "stream",
     "text": [
      "100%|██████████| 4/4 [00:00<00:00, 39.53it/s]\n"
     ]
    }
   ],
   "source": [
    "for i, path in enumerate(tqdm(ci_path)):\n",
    "    with open(path.split(\".\")[0] + \"_random.txt\", \"w\", encoding=\"utf-8\") as f:\n",
    "        num = int(path.split(\".\")[0].split(\"_\")[1])\n",
    "        for _ in range(cnt_list[i]):\n",
    "            f.write(\"\".join(random.choices(words, k=num)) + \"\\n\")"
   ]
  },
  {
   "cell_type": "code",
   "execution_count": 61,
   "id": "b88ebcb7",
   "metadata": {},
   "outputs": [
    {
     "data": {
      "text/plain": [
       "[2]"
      ]
     },
     "execution_count": 61,
     "metadata": {},
     "output_type": "execute_result"
    }
   ],
   "source": [
    "list(range(2, 2 + 1))"
   ]
  }
 ],
 "metadata": {
  "kernelspec": {
   "display_name": "Python 3",
   "language": "python",
   "name": "python3"
  },
  "language_info": {
   "codemirror_mode": {
    "name": "ipython",
    "version": 3
   },
   "file_extension": ".py",
   "mimetype": "text/x-python",
   "name": "python",
   "nbconvert_exporter": "python",
   "pygments_lexer": "ipython3",
   "version": "3.6.8"
  }
 },
 "nbformat": 4,
 "nbformat_minor": 5
}
